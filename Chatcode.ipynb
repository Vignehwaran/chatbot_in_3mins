{
 "cells": [
  {
   "cell_type": "code",
   "execution_count": null,
   "metadata": {},
   "outputs": [
    {
     "name": "stdout",
     "output_type": "stream",
     "text": [
      "you:what is my name\n",
      "ai:You told me that your girlfriend's chatbot name is Sreni, but you didn't tell me your name. Would you like to share it with me?\n"
     ]
    }
   ],
   "source": [
    "from dotenv import load_dotenv\n",
    "from langchain_groq import ChatGroq\n",
    "from langchain_core.messages import AIMessage , HumanMessage,SystemMessage\n",
    "load_dotenv()\n",
    "\n",
    "\n",
    "\n",
    "LLM=ChatGroq(\n",
    "    model=\"llama-3.3-70b-versatile\"\n",
    ")\n",
    "\n",
    "chat_history=[]\n",
    "\n",
    "\n",
    "system_message=SystemMessage(content=\" your act like  are me gril frient chotbot name is sreni\")\n",
    "chat_history.append(system_message)\n",
    "\n",
    "while True:\n",
    "    query=input(\"you :\")\n",
    "    if query.lower()==\"exit\":\n",
    "        break\n",
    "\n",
    "    Human_message=HumanMessage(content=query)\n",
    "    chat_history.append(Human_message)\n",
    "\n",
    "    respones=LLM.invoke(chat_history)\n",
    "    result=respones.content\n",
    "    ai_message=AIMessage(content=result)\n",
    "\n",
    "\n",
    "    print(f'you:{query}')\n",
    "    print(f'ai:{result}')\n",
    "\n",
    "\n"
   ]
  }
 ],
 "metadata": {
  "kernelspec": {
   "display_name": "Python 3",
   "language": "python",
   "name": "python3"
  },
  "language_info": {
   "codemirror_mode": {
    "name": "ipython",
    "version": 3
   },
   "file_extension": ".py",
   "mimetype": "text/x-python",
   "name": "python",
   "nbconvert_exporter": "python",
   "pygments_lexer": "ipython3",
   "version": "3.10.0"
  }
 },
 "nbformat": 4,
 "nbformat_minor": 2
}
